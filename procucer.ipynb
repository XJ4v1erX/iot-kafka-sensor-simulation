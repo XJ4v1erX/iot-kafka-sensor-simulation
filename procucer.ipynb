{
  "nbformat": 4,
  "nbformat_minor": 0,
  "metadata": {
    "colab": {
      "provenance": []
    },
    "kernelspec": {
      "name": "python3",
      "display_name": "Python 3"
    },
    "language_info": {
      "name": "python"
    }
  },
  "cells": [
    {
      "cell_type": "code",
      "source": [
        "!pip install kafka-python"
      ],
      "metadata": {
        "colab": {
          "base_uri": "https://localhost:8080/"
        },
        "id": "5ni5GQ1xCiAy",
        "outputId": "df16a359-185b-4418-f628-0c58cc2ca9be"
      },
      "execution_count": 2,
      "outputs": [
        {
          "output_type": "stream",
          "name": "stdout",
          "text": [
            "Collecting kafka-python\n",
            "  Downloading kafka_python-2.0.2-py2.py3-none-any.whl.metadata (7.8 kB)\n",
            "Downloading kafka_python-2.0.2-py2.py3-none-any.whl (246 kB)\n",
            "\u001b[?25l   \u001b[90m━━━━━━━━━━━━━━━━━━━━━━━━━━━━━━━━━━━━━━━━\u001b[0m \u001b[32m0.0/246.5 kB\u001b[0m \u001b[31m?\u001b[0m eta \u001b[36m-:--:--\u001b[0m\r\u001b[2K   \u001b[91m━━━━━━━━━━━━━━━━━━━━━━━━━━━━━━━━━━━━━━━\u001b[0m\u001b[91m╸\u001b[0m \u001b[32m245.8/246.5 kB\u001b[0m \u001b[31m8.1 MB/s\u001b[0m eta \u001b[36m0:00:01\u001b[0m\r\u001b[2K   \u001b[90m━━━━━━━━━━━━━━━━━━━━━━━━━━━━━━━━━━━━━━━━\u001b[0m \u001b[32m246.5/246.5 kB\u001b[0m \u001b[31m5.0 MB/s\u001b[0m eta \u001b[36m0:00:00\u001b[0m\n",
            "\u001b[?25hInstalling collected packages: kafka-python\n",
            "Successfully installed kafka-python-2.0.2\n"
          ]
        }
      ]
    },
    {
      "cell_type": "code",
      "source": [
        "from kafka import KafkaProducer\n",
        "import json\n",
        "import random\n",
        "import time\n",
        "\n",
        "# Configuración del Producer\n",
        "producer = KafkaProducer(\n",
        "    bootstrap_servers='164.92.76.15:9092',\n",
        "    value_serializer=lambda v: json.dumps(v).encode('utf-8'),\n",
        "    key_serializer=lambda k: k.encode('utf-8')\n",
        ")\n",
        "\n",
        "topic = '21600'  # Reemplaza con tu número de carné\n",
        "log_file = \"producer_log.txt\"  # Archivo de log para los mensajes enviados\n",
        "\n",
        "def generar_datos_sensor(sensor_id):\n",
        "    temperatura = round(random.normalvariate(55, 10), 2)\n",
        "    humedad = int(random.normalvariate(55, 15))\n",
        "    direccion_viento = random.choice([\"N\", \"NO\", \"O\", \"SO\", \"S\", \"SE\", \"E\", \"NE\"])\n",
        "    return {\n",
        "        \"sensor_id\": sensor_id,\n",
        "        \"temperatura\": temperatura,\n",
        "        \"humedad\": humedad,\n",
        "        \"direccion_viento\": direccion_viento\n",
        "    }\n",
        "\n",
        "try:\n",
        "    while True:\n",
        "        sensor_id = 'javi'\n",
        "        datos = generar_datos_sensor(sensor_id)\n",
        "\n",
        "        # Guardar en el log\n",
        "        with open(log_file, \"a\") as f:\n",
        "            f.write(f\"Enviando mensaje: {datos} con clave: {sensor_id}\\n\")\n",
        "\n",
        "        # Enviar el mensaje a Kafka\n",
        "        producer.send(topic=topic, key=sensor_id, value=datos)\n",
        "        print(f\"Enviando mensaje: {datos} con clave: {sensor_id}\")\n",
        "\n",
        "        # Espera entre 15 y 30 segundos antes de enviar el siguiente mensaje\n",
        "        time.sleep(random.randint(15, 30))\n",
        "except KeyboardInterrupt:\n",
        "    print(\"Detenido por el usuario.\")\n",
        "finally:\n",
        "    producer.close()\n"
      ],
      "metadata": {
        "colab": {
          "base_uri": "https://localhost:8080/"
        },
        "id": "aQxafOzGIYdF",
        "outputId": "a89adeef-1cfb-4508-dbb0-b82e152e92d8"
      },
      "execution_count": 19,
      "outputs": [
        {
          "output_type": "stream",
          "name": "stdout",
          "text": [
            "Enviando mensaje: {'sensor_id': 'javi', 'temperatura': 47.46, 'humedad': 62, 'direccion_viento': 'O'} con clave: javi\n",
            "Enviando mensaje: {'sensor_id': 'javi', 'temperatura': 55.21, 'humedad': 42, 'direccion_viento': 'NE'} con clave: javi\n",
            "Enviando mensaje: {'sensor_id': 'javi', 'temperatura': 38.96, 'humedad': 58, 'direccion_viento': 'SE'} con clave: javi\n",
            "Enviando mensaje: {'sensor_id': 'javi', 'temperatura': 43.89, 'humedad': 41, 'direccion_viento': 'S'} con clave: javi\n",
            "Enviando mensaje: {'sensor_id': 'javi', 'temperatura': 54.09, 'humedad': 81, 'direccion_viento': 'N'} con clave: javi\n",
            "Enviando mensaje: {'sensor_id': 'javi', 'temperatura': 50.98, 'humedad': 73, 'direccion_viento': 'SO'} con clave: javi\n",
            "Enviando mensaje: {'sensor_id': 'javi', 'temperatura': 51.36, 'humedad': 54, 'direccion_viento': 'N'} con clave: javi\n",
            "Enviando mensaje: {'sensor_id': 'javi', 'temperatura': 54.86, 'humedad': 34, 'direccion_viento': 'SE'} con clave: javi\n",
            "Enviando mensaje: {'sensor_id': 'javi', 'temperatura': 40.36, 'humedad': 57, 'direccion_viento': 'O'} con clave: javi\n",
            "Enviando mensaje: {'sensor_id': 'javi', 'temperatura': 56.42, 'humedad': 67, 'direccion_viento': 'S'} con clave: javi\n",
            "Enviando mensaje: {'sensor_id': 'javi', 'temperatura': 64.52, 'humedad': 36, 'direccion_viento': 'S'} con clave: javi\n",
            "Enviando mensaje: {'sensor_id': 'javi', 'temperatura': 42.56, 'humedad': 70, 'direccion_viento': 'NE'} con clave: javi\n",
            "Enviando mensaje: {'sensor_id': 'javi', 'temperatura': 53.29, 'humedad': 53, 'direccion_viento': 'E'} con clave: javi\n",
            "Enviando mensaje: {'sensor_id': 'javi', 'temperatura': 49.44, 'humedad': 52, 'direccion_viento': 'NO'} con clave: javi\n",
            "Detenido por el usuario.\n"
          ]
        }
      ]
    }
  ]
}