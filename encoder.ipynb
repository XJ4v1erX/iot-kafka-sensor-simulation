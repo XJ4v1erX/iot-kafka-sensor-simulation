{
  "nbformat": 4,
  "nbformat_minor": 0,
  "metadata": {
    "colab": {
      "provenance": []
    },
    "kernelspec": {
      "name": "python3",
      "display_name": "Python 3"
    },
    "language_info": {
      "name": "python"
    }
  },
  "cells": [
    {
      "cell_type": "code",
      "execution_count": 2,
      "metadata": {
        "colab": {
          "base_uri": "https://localhost:8080/"
        },
        "id": "hSsR2FUlcvkb",
        "outputId": "5835c7b5-d4c0-43ca-e840-5181796ccd95"
      },
      "outputs": [
        {
          "output_type": "stream",
          "name": "stdout",
          "text": [
            "Datos originales: Temperatura=30.47, Humedad=53, Dirección=N\n",
            "Payload codificado en 3 bytes: b'F\\xea\\x18'\n",
            "Datos decodificados: {'temperatura': 30.47, 'humedad': 53, 'direccion_viento': 'N'}\n"
          ]
        }
      ],
      "source": [
        "import random\n",
        "\n",
        "# Función para codificar los datos en un payload de 3 bytes\n",
        "def encode_datos_sensor(temperatura, humedad, direccion_viento):\n",
        "    # Escalamos la temperatura de 0-110 a 0-16383 (14 bits)\n",
        "    temp_escalada = int((temperatura / 110) * 16383)\n",
        "    # Escalamos la humedad a 7 bits (0-100 a 0-127)\n",
        "    humedad_escalada = int((humedad / 100) * 127)\n",
        "    # Direcciones de viento en 3 bits\n",
        "    direcciones = {\"N\": 0, \"NO\": 1, \"O\": 2, \"SO\": 3, \"S\": 4, \"SE\": 5, \"E\": 6, \"NE\": 7}\n",
        "    direccion_escalada = direcciones[direccion_viento]\n",
        "\n",
        "    # Combinamos los valores en un solo entero de 24 bits\n",
        "    payload = (temp_escalada << 10) | (humedad_escalada << 3) | direccion_escalada\n",
        "\n",
        "    # Convertimos el payload en 3 bytes\n",
        "    return payload.to_bytes(3, 'big')\n",
        "\n",
        "# Función para decodificar el payload de 3 bytes\n",
        "def decode_datos_sensor(payload_bytes):\n",
        "    # Convertimos los bytes de vuelta a un entero de 24 bits\n",
        "    payload = int.from_bytes(payload_bytes, 'big')\n",
        "\n",
        "    # Extraemos los valores individuales usando desplazamientos de bits\n",
        "    temp_escalada = (payload >> 10) & 0x3FFF  # Los primeros 14 bits\n",
        "    humedad_escalada = (payload >> 3) & 0x7F  # Los siguientes 7 bits\n",
        "    direccion_escalada = payload & 0x07       # Los últimos 3 bits\n",
        "\n",
        "    # Escalamos de vuelta a los valores originales\n",
        "    temperatura = (temp_escalada / 16383) * 110\n",
        "    humedad = (humedad_escalada / 127) * 100\n",
        "    direcciones = {0: \"N\", 1: \"NO\", 2: \"O\", 3: \"SO\", 4: \"S\", 5: \"SE\", 6: \"E\", 7: \"NE\"}\n",
        "    direccion_viento = direcciones[direccion_escalada]\n",
        "\n",
        "    return {\n",
        "        \"temperatura\": round(temperatura, 2),\n",
        "        \"humedad\": round(humedad),\n",
        "        \"direccion_viento\": direccion_viento\n",
        "    }\n",
        "\n",
        "# Ejemplo de uso de las funciones\n",
        "temperatura = round(random.uniform(0, 110), 2)\n",
        "humedad = random.randint(0, 100)\n",
        "direccion_viento = random.choice([\"N\", \"NO\", \"O\", \"SO\", \"S\", \"SE\", \"E\", \"NE\"])\n",
        "\n",
        "# Codificación\n",
        "payload = encode_datos_sensor(temperatura, humedad, direccion_viento)\n",
        "print(f\"Datos originales: Temperatura={temperatura}, Humedad={humedad}, Dirección={direccion_viento}\")\n",
        "print(f\"Payload codificado en 3 bytes: {payload}\")\n",
        "\n",
        "# Decodificación\n",
        "datos_decodificados = decode_datos_sensor(payload)\n",
        "print(f\"Datos decodificados: {datos_decodificados}\")\n"
      ]
    }
  ]
}